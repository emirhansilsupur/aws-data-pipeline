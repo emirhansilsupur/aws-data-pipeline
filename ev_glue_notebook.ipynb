{
	"metadata": {
		"kernelspec": {
			"name": "glue_pyspark",
			"display_name": "Glue PySpark",
			"language": "python"
		},
		"language_info": {
			"name": "Python_Glue_Session",
			"mimetype": "text/x-python",
			"codemirror_mode": {
				"name": "python",
				"version": 3
			},
			"pygments_lexer": "python3",
			"file_extension": ".py"
		}
	},
	"nbformat_minor": 4,
	"nbformat": 4,
	"cells": [
		{
			"cell_type": "markdown",
			"source": "# AWS Glue Studio Notebook",
			"metadata": {
				"editable": true,
				"trusted": true
			}
		},
		{
			"cell_type": "code",
			"source": "from pyspark.sql import SparkSession\nfrom pyspark.sql.functions import col, to_timestamp, hour, month, year, when, count, avg, sum, dayofmonth\nfrom pyspark.sql.types import DoubleType\nimport pandas as pd\nfrom pyspark.sql import functions as F\npd.set_option('display.max_columns', None) \npd.set_option('display.width', 100)  ",
			"metadata": {
				"trusted": true,
				"tags": []
			},
			"execution_count": 1,
			"outputs": [
				{
					"name": "stdout",
					"text": "Welcome to the Glue Interactive Sessions Kernel\nFor more information on available magic commands, please type %help in any new cell.\n\nPlease view our Getting Started page to access the most up-to-date information on the Interactive Sessions kernel: https://docs.aws.amazon.com/glue/latest/dg/interactive-sessions.html\nInstalled kernel version: 1.0.5 \nTrying to create a Glue session for the kernel.\nSession Type: glueetl\nSession ID: d5a60e9b-9327-4d27-a71f-348091751179\nApplying the following default arguments:\n--glue_kernel_version 1.0.5\n--enable-glue-datacatalog true\nWaiting for session d5a60e9b-9327-4d27-a71f-348091751179 to get into ready status...\nSession d5a60e9b-9327-4d27-a71f-348091751179 has been created.\n\n",
					"output_type": "stream"
				}
			]
		},
		{
			"cell_type": "code",
			"source": "spark = SparkSession.builder.appName(\"EVCharging\").getOrCreate()",
			"metadata": {
				"trusted": true,
				"tags": []
			},
			"execution_count": 2,
			"outputs": [
				{
					"name": "stdout",
					"text": "\n",
					"output_type": "stream"
				}
			]
		},
		{
			"cell_type": "code",
			"source": "# Read from S3 bucket\ndata_uri = \"s3://ev-charging-data/raw/ev_charging_patterns.csv\"",
			"metadata": {
				"trusted": true,
				"tags": []
			},
			"execution_count": 3,
			"outputs": [
				{
					"name": "stdout",
					"text": "\n",
					"output_type": "stream"
				}
			]
		},
		{
			"cell_type": "code",
			"source": "df = spark.read.csv(data_uri, header=True, inferSchema=True)",
			"metadata": {
				"trusted": true,
				"tags": []
			},
			"execution_count": 4,
			"outputs": [
				{
					"name": "stdout",
					"text": "\n",
					"output_type": "stream"
				}
			]
		},
		{
			"cell_type": "code",
			"source": "df.limit(5).toPandas()",
			"metadata": {
				"trusted": true,
				"tags": []
			},
			"execution_count": 5,
			"outputs": [
				{
					"name": "stdout",
					"text": "  User ID Vehicle Model  Battery Capacity (kWh) Charging Station ID Charging Station Location  \\\n0  User_1        BMW i3              108.463007         Station_391                   Houston   \n1  User_2  Hyundai Kona              100.000000         Station_428             San Francisco   \n2  User_3    Chevy Bolt               75.000000         Station_181             San Francisco   \n3  User_4  Hyundai Kona               50.000000         Station_327                   Houston   \n4  User_5  Hyundai Kona               50.000000         Station_108               Los Angeles   \n\n  Charging Start Time   Charging End Time  Energy Consumed (kWh)  Charging Duration (hours)  \\\n0 2024-01-01 00:00:00 2024-01-01 00:39:00              60.712346                   0.591363   \n1 2024-01-01 01:00:00 2024-01-01 03:01:00              12.339275                   3.133652   \n2 2024-01-01 02:00:00 2024-01-01 04:48:00              19.128876                   2.452653   \n3 2024-01-01 03:00:00 2024-01-01 06:42:00              79.457824                   1.266431   \n4 2024-01-01 04:00:00 2024-01-01 05:46:00              19.629104                   2.019765   \n\n   Charging Rate (kW)  Charging Cost (USD) Time of Day Day of Week  State of Charge (Start %)  \\\n0           36.389181            13.087717     Evening     Tuesday                  29.371576   \n1           30.677735            21.128448     Morning      Monday                  10.115778   \n2           27.513593            35.667270     Morning    Thursday                   6.854604   \n3           32.882870            13.036239     Evening    Saturday                  83.120003   \n4           10.215712            10.161471     Morning    Saturday                  54.258950   \n\n   State of Charge (End %)  Distance Driven (since last charge) (km)  Temperature (°C)  \\\n0                86.119962                                293.602111         27.947953   \n1                84.664344                                112.112804         14.311026   \n2                69.917615                                 71.799253         21.002002   \n3                99.624328                                199.577785         38.316313   \n4                63.743786                                203.661847         -7.834199   \n\n   Vehicle Age (years)     Charger Type               User Type  \n0                  2.0  DC Fast Charger                Commuter  \n1                  3.0          Level 1           Casual Driver  \n2                  2.0          Level 2                Commuter  \n3                  1.0          Level 1  Long-Distance Traveler  \n4                  1.0          Level 1  Long-Distance Traveler  \n/opt/amazon/spark/python/lib/pyspark.zip/pyspark/sql/pandas/conversion.py:248: FutureWarning: Passing unit-less datetime64 dtype to .astype is deprecated and will raise in a future version. Pass 'datetime64[ns]' instead\n  series = series.astype(t, copy=False)\n/opt/amazon/spark/python/lib/pyspark.zip/pyspark/sql/pandas/conversion.py:248: FutureWarning: Passing unit-less datetime64 dtype to .astype is deprecated and will raise in a future version. Pass 'datetime64[ns]' instead\n  series = series.astype(t, copy=False)\n",
					"output_type": "stream"
				}
			]
		},
		{
			"cell_type": "code",
			"source": "df.printSchema()",
			"metadata": {
				"trusted": true,
				"tags": []
			},
			"execution_count": 6,
			"outputs": [
				{
					"name": "stdout",
					"text": "root\n |-- User ID: string (nullable = true)\n |-- Vehicle Model: string (nullable = true)\n |-- Battery Capacity (kWh): double (nullable = true)\n |-- Charging Station ID: string (nullable = true)\n |-- Charging Station Location: string (nullable = true)\n |-- Charging Start Time: timestamp (nullable = true)\n |-- Charging End Time: timestamp (nullable = true)\n |-- Energy Consumed (kWh): double (nullable = true)\n |-- Charging Duration (hours): double (nullable = true)\n |-- Charging Rate (kW): double (nullable = true)\n |-- Charging Cost (USD): double (nullable = true)\n |-- Time of Day: string (nullable = true)\n |-- Day of Week: string (nullable = true)\n |-- State of Charge (Start %): double (nullable = true)\n |-- State of Charge (End %): double (nullable = true)\n |-- Distance Driven (since last charge) (km): double (nullable = true)\n |-- Temperature (°C): double (nullable = true)\n |-- Vehicle Age (years): double (nullable = true)\n |-- Charger Type: string (nullable = true)\n |-- User Type: string (nullable = true)\n",
					"output_type": "stream"
				}
			]
		},
		{
			"cell_type": "code",
			"source": "df = df.drop(\"User ID\")",
			"metadata": {
				"trusted": true
			},
			"execution_count": 7,
			"outputs": [
				{
					"name": "stdout",
					"text": "\n",
					"output_type": "stream"
				}
			]
		},
		{
			"cell_type": "code",
			"source": "# Check for missing values\nmissing_values = df.select([((count(when(col(c).isNull(), c)) / count(\"*\")) * 100).alias(c) for c in df.columns])",
			"metadata": {
				"trusted": true,
				"tags": []
			},
			"execution_count": 8,
			"outputs": [
				{
					"name": "stdout",
					"text": "\n",
					"output_type": "stream"
				}
			]
		},
		{
			"cell_type": "code",
			"source": "missing_values.toPandas()",
			"metadata": {
				"trusted": true,
				"tags": []
			},
			"execution_count": 9,
			"outputs": [
				{
					"name": "stdout",
					"text": "   Vehicle Model  Battery Capacity (kWh)  Charging Station ID  Charging Station Location  \\\n0            0.0                     0.0                  0.0                        0.0   \n\n   Charging Start Time  Charging End Time  Energy Consumed (kWh)  Charging Duration (hours)  \\\n0                  0.0                0.0                    5.0                        0.0   \n\n   Charging Rate (kW)  Charging Cost (USD)  Time of Day  Day of Week  State of Charge (Start %)  \\\n0                 5.0                  0.0          0.0          0.0                        0.0   \n\n   State of Charge (End %)  Distance Driven (since last charge) (km)  Temperature (°C)  \\\n0                      0.0                                       5.0               0.0   \n\n   Vehicle Age (years)  Charger Type  User Type  \n0                  0.0           0.0        0.0\n",
					"output_type": "stream"
				}
			]
		},
		{
			"cell_type": "markdown",
			"source": "The dataset contains 5% missing values. We can choose to delete these values.",
			"metadata": {}
		},
		{
			"cell_type": "code",
			"source": "# Drop rows with missing values\ndf = df.dropna()",
			"metadata": {
				"trusted": true,
				"tags": []
			},
			"execution_count": 10,
			"outputs": [
				{
					"name": "stdout",
					"text": "\n",
					"output_type": "stream"
				}
			]
		},
		{
			"cell_type": "code",
			"source": "# Check for duplicates\nduplicate_count = df.count() - df.dropDuplicates().count()\nprint(f\"Number of duplicates: {duplicate_count}\")",
			"metadata": {
				"trusted": true,
				"tags": []
			},
			"execution_count": 11,
			"outputs": [
				{
					"name": "stdout",
					"text": "Number of duplicates: 0\n",
					"output_type": "stream"
				}
			]
		},
		{
			"cell_type": "code",
			"source": "# Calculate the actual charging duration in hours\ndf = df.withColumn(\"Computed Charging Duration (hours)\", \n                   (col(\"Charging End Time\").cast(\"long\") - col(\"Charging Start Time\").cast(\"long\")) / 3600)\n\n# Validate existing 'Charging Duration (hours)' against computed duration\ndf = df.withColumn(\"Duration Difference\", \n                   col(\"Charging Duration (hours)\") - col(\"Computed Charging Duration (hours)\"))",
			"metadata": {
				"trusted": true,
				"tags": []
			},
			"execution_count": 12,
			"outputs": [
				{
					"name": "stdout",
					"text": "\n",
					"output_type": "stream"
				}
			]
		},
		{
			"cell_type": "code",
			"source": "# Check discrepancies\ndiscrepancy_threshold = 0.1  # hours\ndiscrepancies = df.filter(F.abs(col(\"Duration Difference\")) > discrepancy_threshold)\nprint(f\"Number of discrepancies: {discrepancies.count()}\")",
			"metadata": {
				"trusted": true,
				"tags": []
			},
			"execution_count": 13,
			"outputs": [
				{
					"name": "stdout",
					"text": "Number of discrepancies: 1070\n",
					"output_type": "stream"
				}
			]
		},
		{
			"cell_type": "code",
			"source": "# Update Charging Duration\ndf = df.withColumn(\"Charging Duration (hours)\", col(\"Computed Charging Duration (hours)\"))",
			"metadata": {
				"trusted": true,
				"tags": []
			},
			"execution_count": 14,
			"outputs": [
				{
					"name": "stdout",
					"text": "\n",
					"output_type": "stream"
				}
			]
		},
		{
			"cell_type": "code",
			"source": "# Extract hour and day\ndf = df.withColumn(\"Charging Start Hour\", hour(col(\"Charging Start Time\")))\ndf = df.withColumn(\"Charging Start Day\", dayofmonth(col(\"Charging Start Time\")))\ndf = df.withColumn(\"Charging End Hour\", hour(col(\"Charging End Time\")))\ndf = df.withColumn(\"Charging End Day\", dayofmonth(col(\"Charging End Time\")))",
			"metadata": {
				"trusted": true,
				"tags": []
			},
			"execution_count": 15,
			"outputs": [
				{
					"name": "stdout",
					"text": "\n",
					"output_type": "stream"
				}
			]
		},
		{
			"cell_type": "code",
			"source": "# Define peak hours\ndf = df.withColumn(\"Peak Charging\", \n                   when((col(\"Charging Start Hour\").between(7, 10)) | \n                        (col(\"Charging Start Hour\").between(17, 20)), \n                        \"Peak\").otherwise(\"Off-Peak\"))",
			"metadata": {
				"trusted": true,
				"tags": []
			},
			"execution_count": 16,
			"outputs": [
				{
					"name": "stdout",
					"text": "\n",
					"output_type": "stream"
				}
			]
		},
		{
			"cell_type": "code",
			"source": "# Battery Health Indicators\n# Assuming 1.8% degradation per year --> https://www.geotab.com/blog/ev-battery-health/\ndf = df.withColumn(\"Effective Battery Capacity (kWh)\", \n                   col(\"Battery Capacity (kWh)\") * (1 - 0.018 * col(\"Vehicle Age (years)\")))",
			"metadata": {
				"trusted": true,
				"tags": []
			},
			"execution_count": 17,
			"outputs": [
				{
					"name": "stdout",
					"text": "\n",
					"output_type": "stream"
				}
			]
		},
		{
			"cell_type": "code",
			"source": "df = df.drop(\"Battery Capacity (kWh)\")",
			"metadata": {
				"trusted": true
			},
			"execution_count": 18,
			"outputs": [
				{
					"name": "stdout",
					"text": "\n",
					"output_type": "stream"
				}
			]
		},
		{
			"cell_type": "code",
			"source": "# Create the new feature \"Battery Percentage Charged\"\ndf = df.withColumn(\"Battery Percentage Charged\", \n    col(\"State of Charge (End %)\") - col(\"State of Charge (Start %)\")\n)",
			"metadata": {
				"trusted": true,
				"tags": []
			},
			"execution_count": 19,
			"outputs": [
				{
					"name": "stdout",
					"text": "\n",
					"output_type": "stream"
				}
			]
		},
		{
			"cell_type": "code",
			"source": "df = df.drop(\"State of Charge (End %)\", \"State of Charge (Start %)\")",
			"metadata": {
				"trusted": true
			},
			"execution_count": 20,
			"outputs": [
				{
					"name": "stdout",
					"text": "\n",
					"output_type": "stream"
				}
			]
		},
		{
			"cell_type": "code",
			"source": "# Create the new feature \"Temperature x Charging Duration\"\ndf = df.withColumn(\"Temperature x Charging Duration\", \n    col(\"Temperature (°C)\") * col(\"Charging Duration (hours)\")\n)",
			"metadata": {
				"trusted": true,
				"tags": []
			},
			"execution_count": 21,
			"outputs": [
				{
					"name": "stdout",
					"text": "\n",
					"output_type": "stream"
				}
			]
		},
		{
			"cell_type": "code",
			"source": "# Create the new feature \"Charging Rate x Battery Capacity\"\ndf = df.withColumn(\"Charging Rate x Battery Capacity\", \n    col(\"Charging Rate (kW)\") * col(\"Effective Battery Capacity (kWh)\")\n)",
			"metadata": {
				"trusted": true,
				"tags": []
			},
			"execution_count": 22,
			"outputs": [
				{
					"name": "stdout",
					"text": "\n",
					"output_type": "stream"
				}
			]
		},
		{
			"cell_type": "code",
			"source": "# Calculate cost efficiency\ndf = df.withColumn(\"Cost per kWh (USD/kWh)\", \n                   col(\"Charging Cost (USD)\") / col(\"Energy Consumed (kWh)\"))",
			"metadata": {
				"trusted": true,
				"tags": []
			},
			"execution_count": 23,
			"outputs": [
				{
					"name": "stdout",
					"text": "\n",
					"output_type": "stream"
				}
			]
		},
		{
			"cell_type": "code",
			"source": "# Function to convert a single column name to snake_case\ndef to_snake_case(col_name):\n    return col_name.lower().replace(' ', '_')\n\nold_columns = df.columns\n\nnew_columns = [to_snake_case(col) for col in old_columns]\n\nfor old_col, new_col in zip(old_columns, new_columns):\n    df = df.withColumnRenamed(old_col, new_col)",
			"metadata": {
				"trusted": true,
				"tags": []
			},
			"execution_count": 24,
			"outputs": [
				{
					"name": "stdout",
					"text": "\n",
					"output_type": "stream"
				}
			]
		},
		{
			"cell_type": "code",
			"source": "df.limit(5).toPandas()",
			"metadata": {
				"trusted": true,
				"tags": []
			},
			"execution_count": 25,
			"outputs": [
				{
					"name": "stdout",
					"text": "  vehicle_model charging_station_id charging_station_location charging_start_time  \\\n0        BMW i3         Station_391                   Houston 2024-01-01 00:00:00   \n1  Hyundai Kona         Station_428             San Francisco 2024-01-01 01:00:00   \n2    Chevy Bolt         Station_181             San Francisco 2024-01-01 02:00:00   \n3  Hyundai Kona         Station_327                   Houston 2024-01-01 03:00:00   \n4  Hyundai Kona         Station_108               Los Angeles 2024-01-01 04:00:00   \n\n    charging_end_time  energy_consumed_(kwh)  charging_duration_(hours)  charging_rate_(kw)  \\\n0 2024-01-01 00:39:00              60.712346                   0.650000           36.389181   \n1 2024-01-01 03:01:00              12.339275                   2.016667           30.677735   \n2 2024-01-01 04:48:00              19.128876                   2.800000           27.513593   \n3 2024-01-01 06:42:00              79.457824                   3.700000           32.882870   \n4 2024-01-01 05:46:00              19.629104                   1.766667           10.215712   \n\n   charging_cost_(usd) time_of_day day_of_week  distance_driven_(since_last_charge)_(km)  \\\n0            13.087717     Evening     Tuesday                                293.602111   \n1            21.128448     Morning      Monday                                112.112804   \n2            35.667270     Morning    Thursday                                 71.799253   \n3            13.036239     Evening    Saturday                                199.577785   \n4            10.161471     Morning    Saturday                                203.661847   \n\n   temperature_(°c)  vehicle_age_(years)     charger_type               user_type  \\\n0         27.947953                  2.0  DC Fast Charger                Commuter   \n1         14.311026                  3.0          Level 1           Casual Driver   \n2         21.002002                  2.0          Level 2                Commuter   \n3         38.316313                  1.0          Level 1  Long-Distance Traveler   \n4         -7.834199                  1.0          Level 1  Long-Distance Traveler   \n\n   computed_charging_duration_(hours)  duration_difference  charging_start_hour  \\\n0                            0.650000            -0.058637                    0   \n1                            2.016667             1.116985                    1   \n2                            2.800000            -0.347347                    2   \n3                            3.700000            -2.433569                    3   \n4                            1.766667             0.253098                    4   \n\n   charging_start_day  charging_end_hour  charging_end_day peak_charging  \\\n0                   1                  0                 1      Off-Peak   \n1                   1                  3                 1      Off-Peak   \n2                   1                  4                 1      Off-Peak   \n3                   1                  6                 1      Off-Peak   \n4                   1                  5                 1      Off-Peak   \n\n   effective_battery_capacity_(kwh)  battery_percentage_charged  temperature_x_charging_duration  \\\n0                        104.558339                   56.748386                        18.166169   \n1                         94.600000                   74.548566                        28.860568   \n2                         72.300000                   63.063011                        58.805605   \n3                         49.100000                   16.504325                       141.770359   \n4                         49.100000                    9.484836                       -13.840418   \n\n   charging_rate_x_battery_capacity  cost_per_kwh_(usd/kwh)  \n0                       3804.792283                0.215569  \n1                       2902.113725                1.712292  \n2                       1989.232742                1.864577  \n3                       1614.548905                0.164065  \n4                        501.591463                0.517674  \n/opt/amazon/spark/python/lib/pyspark.zip/pyspark/sql/pandas/conversion.py:248: FutureWarning: Passing unit-less datetime64 dtype to .astype is deprecated and will raise in a future version. Pass 'datetime64[ns]' instead\n  series = series.astype(t, copy=False)\n/opt/amazon/spark/python/lib/pyspark.zip/pyspark/sql/pandas/conversion.py:248: FutureWarning: Passing unit-less datetime64 dtype to .astype is deprecated and will raise in a future version. Pass 'datetime64[ns]' instead\n  series = series.astype(t, copy=False)\n",
					"output_type": "stream"
				}
			]
		},
		{
			"cell_type": "code",
			"source": "# Save file to S3\noutput_uri = \"s3://ev-charging-processed/data/\"\ndf.write.parquet(output_uri, mode=\"overwrite\")",
			"metadata": {
				"trusted": true,
				"tags": []
			},
			"execution_count": 26,
			"outputs": [
				{
					"name": "stdout",
					"text": "\n",
					"output_type": "stream"
				}
			]
		},
		{
			"cell_type": "code",
			"source": "",
			"metadata": {},
			"execution_count": null,
			"outputs": []
		}
	]
}